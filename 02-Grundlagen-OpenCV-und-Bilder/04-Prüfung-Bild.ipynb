{
 "cells": [
  {
   "cell_type": "markdown",
   "metadata": {},
   "source": [
    "<a href=\"http://datamics.com/de/courses/\"><img src=../DATA/bg_datamics_top.png></a>\n",
    "\n",
    "<em text-align:center>Copyright Datamics</em>"
   ]
  },
  {
   "cell_type": "markdown",
   "metadata": {},
   "source": [
    "# Prüfung Bild\n",
    "\n",
    "## Bitte vervollständige die untenstehenden, fett markierten Aufgaben. Beachte dabei, dass gegebenenfalls manche dieser Aufgaben als Python-Skripte ausgeführt werden müssen."
   ]
  },
  {
   "cell_type": "markdown",
   "metadata": {},
   "source": [
    "----------\n",
    "### AUFGABE: Öffne das Bild *dog_backpack.jpg* aus dem DATA-Verzeichnes und zeige es in diesem Notebook an. Beachte, dass die Pixel in der Reihenfolge RGB vorliegen müssen."
   ]
  },
  {
   "cell_type": "code",
   "execution_count": null,
   "metadata": {},
   "outputs": [],
   "source": []
  },
  {
   "cell_type": "code",
   "execution_count": null,
   "metadata": {},
   "outputs": [],
   "source": []
  },
  {
   "cell_type": "code",
   "execution_count": null,
   "metadata": {},
   "outputs": [],
   "source": []
  },
  {
   "cell_type": "code",
   "execution_count": null,
   "metadata": {},
   "outputs": [],
   "source": []
  },
  {
   "cell_type": "markdown",
   "metadata": {},
   "source": [
    "#### AUFGABE: Stelle das Bild auf den Kopf und zeige es im Notebook an."
   ]
  },
  {
   "cell_type": "code",
   "execution_count": null,
   "metadata": {},
   "outputs": [],
   "source": []
  },
  {
   "cell_type": "markdown",
   "metadata": {},
   "source": [
    "#### AUFGABE: Zeichne ein leeres, rotes Rechteck um das Gesicht des Hundes und zeige das Bild im Notebook an."
   ]
  },
  {
   "cell_type": "code",
   "execution_count": null,
   "metadata": {},
   "outputs": [],
   "source": []
  },
  {
   "cell_type": "code",
   "execution_count": null,
   "metadata": {},
   "outputs": [],
   "source": []
  },
  {
   "cell_type": "markdown",
   "metadata": {},
   "source": [
    "#### AUFGABE: Zeichne ein BLAUES DREIECK in der Mitte des Bildes. Grösse und Winkel bleiben dir überlassen, es soll aber ein Dreieck (drei Seiten) in jeder Orientierung sein."
   ]
  },
  {
   "cell_type": "code",
   "execution_count": null,
   "metadata": {},
   "outputs": [],
   "source": []
  },
  {
   "cell_type": "markdown",
   "metadata": {},
   "source": [
    "### BONUSAUFGABE: Hast du eine Idee, wie dieses Dreieck befüllt werden kann? Eine andere, in dieser Lektion von uns nicht gezeigte Funktion wird dafür benötigt! Kannst du sie mit der Google-Suche finden?\n",
    "\n",
    "[Klicke hier für einen direkten Link zum Tipp](https://docs.opencv.org/3.0-beta/modules/imgproc/doc/drawing_functions.html#fillpoly)"
   ]
  },
  {
   "cell_type": "code",
   "execution_count": null,
   "metadata": {},
   "outputs": [],
   "source": []
  },
  {
   "cell_type": "markdown",
   "metadata": {},
   "source": [
    "#### AUFGABE: (BEACHTE: DU MUSST DIES ALS SKRIPT AUSFÜHREN). Erzeuge ein Skript, welches das Bild öffnet und es dir erlaubt, leere, rote Kreise zu zeichnen, wo du die rechte Maustaste herunterdrückst."
   ]
  },
  {
   "cell_type": "code",
   "execution_count": null,
   "metadata": {},
   "outputs": [],
   "source": []
  }
 ],
 "metadata": {
  "kernelspec": {
   "display_name": "Python 3",
   "language": "python",
   "name": "python3"
  },
  "language_info": {
   "codemirror_mode": {
    "name": "ipython",
    "version": 3
   },
   "file_extension": ".py",
   "mimetype": "text/x-python",
   "name": "python",
   "nbconvert_exporter": "python",
   "pygments_lexer": "ipython3",
   "version": "3.7.4"
  }
 },
 "nbformat": 4,
 "nbformat_minor": 2
}
